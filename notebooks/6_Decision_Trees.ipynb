{
 "cells": [
  {
   "cell_type": "code",
   "execution_count": 2,
   "metadata": {},
   "outputs": [],
   "source": [
    "import numpy as np\n",
    "import pandas as pd\n",
    "import matplotlib.pyplot as plt\n",
    "\n",
    "#preprocessing\n",
    "\n",
    "from sklearn.preprocessing import StandardScaler, MinMaxScaler\n",
    "\n",
    "# classifier we will use\n",
    "from sklearn.tree import DecisionTreeClassifier\n",
    "\n",
    "# model selection bits\n",
    "from sklearn.model_selection import train_test_split\n",
    "\n",
    "# evaluation\n",
    "from sklearn.metrics import f1_score\n",
    "from sklearn.metrics import accuracy_score\n"
   ]
  },
  {
   "cell_type": "markdown",
   "metadata": {
    "jupyter": {
     "source_hidden": true
    },
    "tags": []
   },
   "source": [
    "# Detecting Spam with Decision Trees\n",
    "\n",
    "In this assignment you will detect spam with decision trees. It's always important to investigate the data that you are using for any project. Since data is our gold mine, it's our oil that powers our models we need to have good quality data. Machine learning follows the \"garbage in, garbage out\" principle, if we feed in bad data for training, we will get a model that produces bad results.  For these reasons we want to answer the following questions.\n",
    "\n",
    "## 0.  Learn about the data\n",
    "\n",
    "1. Where did this data come from?\n",
    "2. Who made it?\n",
    "3. How were the features selected?\n",
    "4. Can you trust it?\n",
    "\n",
    "Go ahead and scan through the spambase_features.txt file and the spambase.txt file.  These two files provide information about the dataset, how it was curated and where it came from. Then try to answer the above questions.\n",
    "\n",
    "\n",
    "## 1. Load the data"
   ]
  },
  {
   "cell_type": "code",
   "execution_count": 3,
   "metadata": {
    "jupyter": {
     "source_hidden": true
    },
    "tags": []
   },
   "outputs": [],
   "source": [
    "## we are going to hardcode the column names, because this just makes it a little easier to use pandas.\n",
    "\n",
    "names = ['word_freq_make:        ',\n",
    "'word_freq_address:     ',\n",
    "'word_freq_all:         ',\n",
    "'word_freq_3d:          ',\n",
    "'word_freq_our:         ',\n",
    "'word_freq_over:        ',\n",
    "'word_freq_remove:      ',\n",
    "'word_freq_internet:    ',\n",
    "'word_freq_order:       ',\n",
    "'word_freq_mail:        ',\n",
    "'word_freq_receive:     ',\n",
    "'word_freq_will:        ',\n",
    "'word_freq_people:      ',\n",
    "'word_freq_report:      ',\n",
    "'word_freq_addresses:   ',\n",
    "'word_freq_free:        ',\n",
    "'word_freq_business:    ',\n",
    "'word_freq_email:       ',\n",
    "'word_freq_you:         ',\n",
    "'word_freq_credit:      ',\n",
    "'word_freq_your:        ',\n",
    "'word_freq_font:        ',\n",
    "'word_freq_000:         ',\n",
    "'word_freq_money:       ',\n",
    "'word_freq_hp:          ',\n",
    "'word_freq_hpl:         ',\n",
    "'word_freq_george:      ',\n",
    "'word_freq_650:         ',\n",
    "'word_freq_lab:         ',\n",
    "'word_freq_labs:        ',\n",
    "'word_freq_telnet:      ',\n",
    "'word_freq_857:         ',\n",
    "'word_freq_data:        ',\n",
    "'word_freq_415:         ',\n",
    "'word_freq_85:          ',\n",
    "'word_freq_technology:  ',\n",
    "'word_freq_1999:        ',\n",
    "'word_freq_parts:       ',\n",
    "'word_freq_pm:          ',\n",
    "'word_freq_direct:      ',\n",
    "'word_freq_cs:          ',\n",
    "'word_freq_meeting:     ',\n",
    "'word_freq_original:    ',\n",
    "'word_freq_project:     ',\n",
    "'word_freq_re:          ',\n",
    "'word_freq_edu:         ',\n",
    "'word_freq_table:       ',\n",
    "'word_freq_conference:  ',\n",
    "'char_freq_;:           ',\n",
    "'char_freq_(:           ',\n",
    "'char_freq_[:           ',\n",
    "'char_freq_!:           ',\n",
    "'char_freq_$:           ',\n",
    "'char_freq_#:           ',\n",
    "'capital_run_length_average',\n",
    "'capital_run_length_longest',\n",
    "'capital_run_length_total: ',\n",
    "'label']\n",
    "          "
   ]
  },
  {
   "cell_type": "code",
   "execution_count": 12,
   "metadata": {
    "collapsed": true,
    "jupyter": {
     "outputs_hidden": true
    },
    "tags": []
   },
   "outputs": [
    {
     "name": "stdout",
     "output_type": "stream",
     "text": [
      "0  word_freq_make:        \n",
      "1  word_freq_address:     \n",
      "2  word_freq_all:         \n",
      "3  word_freq_3d:          \n",
      "4  word_freq_our:         \n",
      "5  word_freq_over:        \n",
      "6  word_freq_remove:      \n",
      "7  word_freq_internet:    \n",
      "8  word_freq_order:       \n",
      "9  word_freq_mail:        \n",
      "10  word_freq_receive:     \n",
      "11  word_freq_will:        \n",
      "12  word_freq_people:      \n",
      "13  word_freq_report:      \n",
      "14  word_freq_addresses:   \n",
      "15  word_freq_free:        \n",
      "16  word_freq_business:    \n",
      "17  word_freq_email:       \n",
      "18  word_freq_you:         \n",
      "19  word_freq_credit:      \n",
      "20  word_freq_your:        \n",
      "21  word_freq_font:        \n",
      "22  word_freq_000:         \n",
      "23  word_freq_money:       \n",
      "24  word_freq_hp:          \n",
      "25  word_freq_hpl:         \n",
      "26  word_freq_george:      \n",
      "27  word_freq_650:         \n",
      "28  word_freq_lab:         \n",
      "29  word_freq_labs:        \n",
      "30  word_freq_telnet:      \n",
      "31  word_freq_857:         \n",
      "32  word_freq_data:        \n",
      "33  word_freq_415:         \n",
      "34  word_freq_85:          \n",
      "35  word_freq_technology:  \n",
      "36  word_freq_1999:        \n",
      "37  word_freq_parts:       \n",
      "38  word_freq_pm:          \n",
      "39  word_freq_direct:      \n",
      "40  word_freq_cs:          \n",
      "41  word_freq_meeting:     \n",
      "42  word_freq_original:    \n",
      "43  word_freq_project:     \n",
      "44  word_freq_re:          \n",
      "45  word_freq_edu:         \n",
      "46  word_freq_table:       \n",
      "47  word_freq_conference:  \n",
      "48  char_freq_;:           \n",
      "49  char_freq_(:           \n",
      "50  char_freq_[:           \n",
      "51  char_freq_!:           \n",
      "52  char_freq_$:           \n",
      "53  char_freq_#:           \n",
      "54  capital_run_length_average\n",
      "55  capital_run_length_longest\n",
      "56  capital_run_length_total: \n",
      "57  label\n"
     ]
    }
   ],
   "source": [
    "\n",
    "for i in range(len(names)):\n",
    "    print(f\"{i}  {names[i]}\")\n",
    "    "
   ]
  },
  {
   "cell_type": "code",
   "execution_count": null,
   "metadata": {},
   "outputs": [],
   "source": []
  },
  {
   "cell_type": "code",
   "execution_count": null,
   "metadata": {},
   "outputs": [],
   "source": []
  },
  {
   "cell_type": "code",
   "execution_count": 11,
   "metadata": {},
   "outputs": [],
   "source": [
    "## Load in the dataset here \n",
    "\n",
    "data = pd.read_csv('spambase/spambase.csv', names = names)\n",
    "X = data.drop('label', axis = 1)\n",
    "y = data.label"
   ]
  },
  {
   "cell_type": "markdown",
   "metadata": {},
   "source": [
    "## 2. Preprocess the data if needed\n",
    "\n",
    "1. Are there any empty values?\n",
    "\n",
    "No.\n",
    "    Not sure how to check this with a code. \n",
    "\n",
    "2. Do you need to transform the data?\n",
    "\n",
    "I think so.\n",
    "\n",
    "3. What is the distribution of the positive and negative classes?\n",
    "\n",
    "From txt:\n",
    "        \"5. Number of Instances: 4601 (1813 Spam = 39.4%)\"\n",
    "        \n",
    "        negative = 2788 60.6%\n",
    "\n",
    "4. Split the data into training and testing sets\n",
    "\n",
    "Let me give a few hints.  When it comes to scaling the data, we normally just _should_, but in this case we are going to be working with decision trees and I think we learned that they have an interesting property!  \n",
    "\n",
    "We want to look at the distribution of positive (spam) and negative (ham) classes.  So basically we need to look at the count of the labels.  You can use the function `.value_counts()` on `y`.  Note that the function `value_counts` is specific to the Series class, it doesn't work on Dataframes.  Now it's not just enough to look at the raw numbers, I suggest you calculate statistics like \"what percentage of my data is ham? What percentage is spam?  This may help you decide if you should use the `stratify` keyword when splitting your data.\n"
   ]
  },
  {
   "cell_type": "code",
   "execution_count": 50,
   "metadata": {},
   "outputs": [
    {
     "name": "stdout",
     "output_type": "stream",
     "text": [
      "0    2788\n",
      "1    1813\n",
      "Name: label, dtype: int64\n",
      "0    1950\n",
      "1    1270\n",
      "Name: label, dtype: int64\n",
      "\n",
      "Percent (-) = 0.6055900621118012\n",
      "\n",
      "Percent (+) = 0.3944099378881988\n"
     ]
    }
   ],
   "source": [
    "X_train, X_test, y_train, y_test = train_test_split(stratify=X,y, test_size = .3)\n",
    "\n",
    "y_value = y.value_counts()\n",
    "y_train_value = y_train.value_counts()\n",
    "print(y_value)\n",
    "print(y_train_value)\n",
    "\n",
    "# negative total = \n",
    "negative_train_total = y_train_value[0]\n",
    "positive_train_total = y_train_value[1] \n",
    "train_total = negative_train_total + positive_train_total\n",
    "percent_neg = negative_train_total/train_total\n",
    "percent_pos = positive_train_total/train_total\n",
    "print(f\"\\nPercent (-) = {percent_neg}\")\n",
    "print(f\"\\nPercent (+) = {percent_pos}\")\n",
    "\n",
    "# negative_total = 2788\n",
    "# positive_total = 1813\n",
    "# total = negative_total + positive_total\n",
    "# print(negative_total/total)"
   ]
  },
  {
   "cell_type": "code",
   "execution_count": 46,
   "metadata": {},
   "outputs": [],
   "source": [
    "# Split your data with 70% for training, this is somewhat random, but this is how I will do it in the \n",
    "# solution video so you will have similar results. Feel free to change this value and experiment if you like.\n",
    "\n",
    "# print(X_train.shape)\n",
    "# print(X_test.shape)\n",
    "# print(y.value_counts())\n",
    "\n",
    "# scaler = StandardScaler()\n",
    "# X_train_scaled = scaler.fit_transform(X_train)\n",
    "# X_test_scaled = scaler.fit_transform(X_test)"
   ]
  },
  {
   "cell_type": "code",
   "execution_count": 53,
   "metadata": {},
   "outputs": [
    {
     "data": {
      "text/plain": [
       "0"
      ]
     },
     "execution_count": 53,
     "metadata": {},
     "output_type": "execute_result"
    }
   ],
   "source": [
    "data.isnull().any().sum()"
   ]
  },
  {
   "cell_type": "code",
   "execution_count": 54,
   "metadata": {},
   "outputs": [
    {
     "data": {
      "text/plain": [
       "0.39404477287546186"
      ]
     },
     "execution_count": 54,
     "metadata": {},
     "output_type": "execute_result"
    }
   ],
   "source": [
    "data.label.sum()/data.shape[0]"
   ]
  },
  {
   "cell_type": "code",
   "execution_count": 55,
   "metadata": {},
   "outputs": [
    {
     "data": {
      "text/plain": [
       "0    1\n",
       "1    1\n",
       "2    1\n",
       "3    1\n",
       "4    1\n",
       "5    1\n",
       "6    1\n",
       "7    1\n",
       "8    1\n",
       "9    1\n",
       "Name: label, dtype: int64"
      ]
     },
     "execution_count": 55,
     "metadata": {},
     "output_type": "execute_result"
    }
   ],
   "source": [
    "y[:10]"
   ]
  },
  {
   "cell_type": "code",
   "execution_count": 58,
   "metadata": {},
   "outputs": [
    {
     "data": {
      "text/plain": [
       "word_freq_make:                 0.104553\n",
       "word_freq_address:              0.213015\n",
       "word_freq_all:                  0.280656\n",
       "word_freq_3d:                   0.065425\n",
       "word_freq_our:                  0.312223\n",
       "word_freq_over:                 0.095901\n",
       "word_freq_remove:               0.114208\n",
       "word_freq_internet:             0.105295\n",
       "word_freq_order:                0.090067\n",
       "word_freq_mail:                 0.239413\n",
       "word_freq_receive:              0.059824\n",
       "word_freq_will:                 0.541702\n",
       "word_freq_people:               0.093930\n",
       "word_freq_report:               0.058626\n",
       "word_freq_addresses:            0.049205\n",
       "word_freq_free:                 0.248848\n",
       "word_freq_business:             0.142586\n",
       "word_freq_email:                0.184745\n",
       "word_freq_you:                  1.662100\n",
       "word_freq_credit:               0.085577\n",
       "word_freq_your:                 0.809761\n",
       "word_freq_font:                 0.121202\n",
       "word_freq_000:                  0.101645\n",
       "word_freq_money:                0.094269\n",
       "word_freq_hp:                   0.549504\n",
       "word_freq_hpl:                  0.265384\n",
       "word_freq_george:               0.767305\n",
       "word_freq_650:                  0.124845\n",
       "word_freq_lab:                  0.098915\n",
       "word_freq_labs:                 0.102852\n",
       "word_freq_telnet:               0.064753\n",
       "word_freq_857:                  0.047048\n",
       "word_freq_data:                 0.097229\n",
       "word_freq_415:                  0.047835\n",
       "word_freq_85:                   0.105412\n",
       "word_freq_technology:           0.097477\n",
       "word_freq_1999:                 0.136953\n",
       "word_freq_parts:                0.013201\n",
       "word_freq_pm:                   0.078629\n",
       "word_freq_direct:               0.064834\n",
       "word_freq_cs:                   0.043667\n",
       "word_freq_meeting:              0.132339\n",
       "word_freq_original:             0.046099\n",
       "word_freq_project:              0.079196\n",
       "word_freq_re:                   0.301224\n",
       "word_freq_edu:                  0.179824\n",
       "word_freq_table:                0.005444\n",
       "word_freq_conference:           0.031869\n",
       "char_freq_;:                    0.038575\n",
       "char_freq_(:                    0.139030\n",
       "char_freq_[:                    0.016976\n",
       "char_freq_!:                    0.269071\n",
       "char_freq_$:                    0.075811\n",
       "char_freq_#:                    0.044238\n",
       "capital_run_length_average      5.191515\n",
       "capital_run_length_longest     52.172789\n",
       "capital_run_length_total:     283.289285\n",
       "label                           0.394045\n",
       "dtype: float64"
      ]
     },
     "execution_count": 58,
     "metadata": {},
     "output_type": "execute_result"
    }
   ],
   "source": [
    "data.mean()"
   ]
  },
  {
   "cell_type": "markdown",
   "metadata": {},
   "source": [
    "## 3. Train a Decision Tree Classifier\n",
    "\n",
    "1. What metric should we use? The f1-score or accuracy?\n",
    "\n",
    "Let's start with a default model, we won't specify any settings on the decision tree model for the first training. The following will be a 3-step process\n",
    " * training\n",
    " * getting predictions\n",
    " * evaluating our predictions\n",
    " \n",
    "The question does arise, what should we check our predictions on? The obvious answer is that we should check the predictions on our testing set. That's the set of data that simulates our future unseen data. However in our quest to figure out if we are overfitting or not, it could be very useful to look at the performance of the training set.  Remember when we overfit our polynomials and they touched every point? But then we added data the performance would drop. Similarly if the perfomance of the training data is near perfect, but the testing data is much worse, that _gap_ indicates overfitting. So we will check both training and testing performance.\n"
   ]
  },
  {
   "cell_type": "code",
   "execution_count": 61,
   "metadata": {},
   "outputs": [
    {
     "name": "stdout",
     "output_type": "stream",
     "text": [
      "DecisionTreeClassifier()\n"
     ]
    }
   ],
   "source": [
    "## Train the model\n",
    "dtc = DecisionTreeClassifier()\n",
    "dtc.fit(X_train,y_train)\n"
   ]
  },
  {
   "cell_type": "code",
   "execution_count": 65,
   "metadata": {},
   "outputs": [
    {
     "name": "stdout",
     "output_type": "stream",
     "text": [
      "[1 0 1 ... 1 1 1]\n"
     ]
    }
   ],
   "source": [
    "## get predictions from the model on the training data and the testing data\n",
    "\n",
    "train_preds = dtc.predict(X_train)\n",
    "test_preds = dtc.predict(X_test)\n",
    "\n"
   ]
  },
  {
   "cell_type": "code",
   "execution_count": 68,
   "metadata": {},
   "outputs": [
    {
     "name": "stdout",
     "output_type": "stream",
     "text": [
      "F1-score training is 0.9988175009854159 \n",
      "\n",
      "F1-score training is 0.8763636363636363\n"
     ]
    }
   ],
   "source": [
    "## evaluate the predictions\n",
    "## Note that the order of the arguments is **very** important for f1-score\n",
    "\n",
    "print(f\"F1-score training is {f1_score(y_train, train_preds)} \\n\")\n",
    "print(f\"F1-score testing is {f1_score(y_test,test_preds)}\")"
   ]
  },
  {
   "cell_type": "markdown",
   "metadata": {
    "tags": []
   },
   "source": [
    "## 4. Did we overfit? Either way, let's try out some of the decision tree parameters\n",
    "\n",
    "Go ahead and try out some different tree parameters. \n",
    "\n",
    "* `max_depth`\n",
    "* `min_samples_split`\n",
    "* `min_samples_leaf`\n",
    "\n",
    "All three of these parameters will control the complexity of the tree.  Before you try them out, let's take a quick quiz:\n",
    "\n",
    "* increasing `max_depth` will : **Increase** or **Decrease** overfitting?\n",
    "* increasing `min_samples_split` will: **Increase** or **Decrease** overfitting?\n",
    "* increasing `min_samples_leaf` will: **Increase** or **Decrease** overfitting?\n",
    "\n",
    "It's very important to know the answer to these questions - because other wise you can't tune the parameters correctly. If you aren't sure go back and check the quiz on this very topic.\n",
    "\n",
    "Go ahead and try at least 3 values for each parameter. Then if you try 3 values for each combination, you actually would try 9 total parameters. You can see where this is going -- `for` loops! At this point I encourage you to just try whatever method you want, you can ad-hoc try different values or you can get robust with for-loops. Whatever you are inspired to do. The main point is to try out some values and see what you find.  What helps improve our testing performance the best?"
   ]
  },
  {
   "cell_type": "code",
   "execution_count": 125,
   "metadata": {
    "tags": []
   },
   "outputs": [
    {
     "data": {
      "text/plain": [
       "DecisionTreeClassifier(min_samples_leaf=10)"
      ]
     },
     "execution_count": 125,
     "metadata": {},
     "output_type": "execute_result"
    }
   ],
   "source": [
    "dtc_max_depth = DecisionTreeClassifier()\n",
    "dtc_min_split = DecisionTreeClassifier()\n",
    "dtc_min_leaf = DecisionTreeClassifier()\n",
    "\n",
    "dtc_list = [dtc_max_depth, dtc_min_split,dtc_min_leaf] \n",
    "dtc_max_depth.fit(X_train,y_train)\n",
    "dtc_min_split.fit(X_train,y_train)\n",
    "dtc_min_leaf.fit(X_train,y_train)\n",
    "                  "
   ]
  },
  {
   "cell_type": "code",
   "execution_count": 126,
   "metadata": {
    "tags": []
   },
   "outputs": [],
   "source": [
    "train_preds_depth = dtc_max_depth.predict(X_train)\n",
    "test_preds_depth = dtc_max_depth.predict(X_test)\n"
   ]
  },
  {
   "cell_type": "code",
   "execution_count": 127,
   "metadata": {
    "tags": []
   },
   "outputs": [],
   "source": [
    "train_preds_split = dtc_min_split.predict(X_train)\n",
    "test_preds_split = dtc_min_split.predict(X_test)\n",
    "\n",
    "\n"
   ]
  },
  {
   "cell_type": "code",
   "execution_count": 128,
   "metadata": {
    "tags": []
   },
   "outputs": [],
   "source": [
    "train_preds_leaf = dtc_min_leaf.predict(X_train)\n",
    "test_preds_leaf = dtc_min_leaf.predict(X_test)"
   ]
  },
  {
   "cell_type": "code",
   "execution_count": 145,
   "metadata": {
    "collapsed": true,
    "jupyter": {
     "outputs_hidden": true
    },
    "tags": []
   },
   "outputs": [
    {
     "name": "stdout",
     "output_type": "stream",
     "text": [
      "\n",
      "\n",
      "         For Values = 2\n",
      "\n",
      "Max_Depth = 2\n",
      "F1-score training is 0.7884444444444445\n",
      "F1-score testing is 0.7288317256162915\n",
      "\n",
      "\n",
      "Min_split = 2\n",
      "F1-score training is 0.9988175009854159\n",
      "F1-score testing is 0.8641750227894257\n",
      "\n",
      "\n",
      "Min_leaf = 2\n",
      "F1-score training is 0.9701130856219708\n",
      "F1-score testing is 0.8636363636363636\n",
      "\n",
      "Magic: max_depth = 23, min_split = 8, min_leaf = 5\n",
      "F1-score training is 0.9448881789137379\n",
      "F1-score testing is 0.8637627432808155\n",
      "\n",
      "\n",
      "\n",
      "         For Values = 3\n",
      "\n",
      "Max_Depth = 3\n",
      "F1-score training is 0.8613861386138615\n",
      "F1-score testing is 0.812375249500998\n",
      "\n",
      "\n",
      "Min_split = 3\n",
      "F1-score training is 0.9960474308300395\n",
      "F1-score testing is 0.8634280476626949\n",
      "\n",
      "\n",
      "Min_leaf = 3\n",
      "F1-score training is 0.96390321301071\n",
      "F1-score testing is 0.8493919550982227\n",
      "\n",
      "Magic: max_depth = 6, min_split = 3, min_leaf = 10\n",
      "F1-score training is 0.9035947712418301\n",
      "F1-score testing is 0.8344627299128751\n",
      "\n",
      "\n",
      "\n",
      "         For Values = 4\n",
      "\n",
      "Max_Depth = 4\n",
      "F1-score training is 0.8890728476821192\n",
      "F1-score testing is 0.8177240684793556\n",
      "\n",
      "\n",
      "Min_split = 4\n",
      "F1-score training is 0.9909198578760362\n",
      "F1-score testing is 0.8710865561694291\n",
      "\n",
      "\n",
      "Min_leaf = 4\n",
      "F1-score training is 0.9526085225009957\n",
      "F1-score testing is 0.8592870544090055\n",
      "\n",
      "Magic: max_depth = 21, min_split = 9, min_leaf = 10\n",
      "F1-score training is 0.9160613397901533\n",
      "F1-score testing is 0.838095238095238\n",
      "\n",
      "\n",
      "\n",
      "         For Values = 5\n",
      "\n",
      "Max_Depth = 5\n",
      "F1-score training is 0.9093864282811864\n",
      "F1-score testing is 0.8518877057115198\n",
      "\n",
      "\n",
      "Min_split = 5\n",
      "F1-score training is 0.9881422924901185\n",
      "F1-score testing is 0.8673376029277219\n",
      "\n",
      "\n",
      "Min_leaf = 5\n",
      "F1-score training is 0.9441340782122905\n",
      "F1-score testing is 0.8634686346863469\n",
      "\n",
      "Magic: max_depth = 6, min_split = 7, min_leaf = 2\n",
      "F1-score training is 0.920260374288039\n",
      "F1-score testing is 0.8541062801932366\n",
      "\n",
      "\n",
      "\n",
      "         For Values = 6\n",
      "\n",
      "Max_Depth = 6\n",
      "F1-score training is 0.924076329679253\n",
      "F1-score testing is 0.8521739130434783\n",
      "\n",
      "\n",
      "Min_split = 6\n",
      "F1-score training is 0.9841897233201581\n",
      "F1-score testing is 0.8655077767612077\n",
      "\n",
      "\n",
      "Min_leaf = 6\n",
      "F1-score training is 0.9400958466453674\n",
      "F1-score testing is 0.8512628624883068\n",
      "\n",
      "Magic: max_depth = 38, min_split = 3, min_leaf = 3\n",
      "F1-score training is 0.9642857142857142\n",
      "F1-score testing is 0.8515769944341371\n",
      "\n",
      "\n",
      "\n",
      "         For Values = 7\n",
      "\n",
      "Max_Depth = 7\n",
      "F1-score training is 0.9373737373737374\n",
      "F1-score testing is 0.8620037807183364\n",
      "\n",
      "\n",
      "Min_split = 7\n",
      "F1-score training is 0.9802683504340963\n",
      "F1-score testing is 0.874087591240876\n",
      "\n",
      "\n",
      "Min_leaf = 7\n",
      "F1-score training is 0.9320079522862823\n",
      "F1-score testing is 0.8555452003727865\n",
      "\n",
      "Magic: max_depth = 13, min_split = 8, min_leaf = 4\n",
      "F1-score training is 0.9493013972055888\n",
      "F1-score testing is 0.8617121354656633\n",
      "\n",
      "\n",
      "\n",
      "         For Values = 8\n",
      "\n",
      "Max_Depth = 8\n",
      "F1-score training is 0.9468170829975826\n",
      "F1-score testing is 0.860377358490566\n",
      "\n",
      "\n",
      "Min_split = 8\n",
      "F1-score training is 0.9763779527559056\n",
      "F1-score testing is 0.8677536231884058\n",
      "\n",
      "\n",
      "Min_leaf = 8\n",
      "F1-score training is 0.9235127478753541\n",
      "F1-score testing is 0.8353948620361561\n",
      "\n",
      "Magic: max_depth = 32, min_split = 8, min_leaf = 10\n",
      "F1-score training is 0.9160613397901533\n",
      "F1-score testing is 0.838095238095238\n",
      "\n",
      "\n",
      "\n",
      "         For Values = 9\n",
      "\n",
      "Max_Depth = 9\n",
      "F1-score training is 0.9524959742351047\n",
      "F1-score testing is 0.8689915174363808\n",
      "\n",
      "\n",
      "Min_split = 9\n",
      "F1-score training is 0.9739336492890995\n",
      "F1-score testing is 0.8709972552607502\n",
      "\n",
      "\n",
      "Min_leaf = 9\n",
      "F1-score training is 0.9193742478941035\n",
      "F1-score testing is 0.8333333333333333\n",
      "\n",
      "Magic: max_depth = 37, min_split = 10, min_leaf = 4\n",
      "F1-score training is 0.9469061876247505\n",
      "F1-score testing is 0.8662301216089804\n",
      "\n"
     ]
    }
   ],
   "source": [
    "import random\n",
    "for i in range(2,10):\n",
    "    depth_wild = random.randint(2,60)\n",
    "    split_wild = random.randint(2,10)\n",
    "    leaf_wild = random.randint(2,10)\n",
    "    \n",
    "    dtc_max_depth = DecisionTreeClassifier(max_depth = i)\n",
    "    dtc_min_split = DecisionTreeClassifier(min_samples_split= i)\n",
    "    dtc_min_leaf = DecisionTreeClassifier(min_samples_leaf = i)\n",
    "    dtc_magic = DecisionTreeClassifier(max_depth = depth_wild,min_samples_split= split_wild,min_samples_leaf = leaf_wild)\n",
    "# \n",
    "    dtc_max_depth.fit(X_train,y_train)\n",
    "    dtc_min_split.fit(X_train,y_train)\n",
    "    dtc_min_leaf.fit(X_train,y_train)\n",
    "    dtc_magic.fit(X_train,y_train)\n",
    "#     \n",
    "    train_preds_depth = dtc_max_depth.predict(X_train)\n",
    "    test_preds_depth = dtc_max_depth.predict(X_test)\n",
    "    \n",
    "    print(f\"\\n\\n         For Values = {i}\")\n",
    "    print(f\"\\nMax_Depth = {dtc_max_depth.max_depth}\")\n",
    "    print(f\"F1-score training is {f1_score(y_train, train_preds_depth)}\")\n",
    "    print(f\"F1-score testing is {f1_score(y_test,test_preds_depth)}\\n\")\n",
    "# \n",
    "    train_preds_split = dtc_min_split.predict(X_train)\n",
    "    test_preds_split = dtc_min_split.predict(X_test)\n",
    "    \n",
    "    print(f\"\\nMin_split = {dtc_min_split.min_samples_split}\")\n",
    "    print(f\"F1-score training is {f1_score(y_train, train_preds_split)}\")\n",
    "    print(f\"F1-score testing is {f1_score(y_test,test_preds_split)}\\n\")\n",
    "# \n",
    "    train_preds_leaf = dtc_min_leaf.predict(X_train)\n",
    "    test_preds_leaf = dtc_min_leaf.predict(X_test)\n",
    "    \n",
    "    print(f\"\\nMin_leaf = {dtc_min_leaf.min_samples_leaf}\")\n",
    "    print(f\"F1-score training is {f1_score(y_train, train_preds_leaf)}\")\n",
    "    print(f\"F1-score testing is {f1_score(y_test, test_preds_leaf)}\\n\")\n",
    "    \n",
    "    train_magic = dtc_magic.predict(X_train)\n",
    "    test_magic = dtc_magic.predict(X_test)\n",
    "    \n",
    "    print(f\"Magic: max_depth = {dtc_magic.max_depth}, min_split = {dtc_magic.min_samples_split}, min_leaf = {dtc_magic.min_samples_leaf}\") \n",
    "    print(f\"F1-score training is {f1_score(y_train, train_magic)}\")\n",
    "    print(f\"F1-score testing is {f1_score(y_test,test_magic)}\\n\")\n",
    "# "
   ]
  },
  {
   "cell_type": "code",
   "execution_count": 167,
   "metadata": {},
   "outputs": [],
   "source": [
    "# trying stuff out\n",
    "import random\n",
    "train_depth_results = []\n",
    "train_split_results = []\n",
    "train_leaf_results = []\n",
    "train_magic_results = []\n",
    "\n",
    "test_depth_results = []\n",
    "train_magic_results = []\n",
    "test_split_results = []\n",
    "test_leaf_results = []\n",
    "test_magic_results = []\n",
    "\n",
    "for i in range(2,10):\n",
    "    depth_wild = random.randint(2,60)\n",
    "    split_wild = random.randint(2,10)\n",
    "    leaf_wild = random.randint(2,10)\n",
    "    \n",
    "    dtc_max_depth = DecisionTreeClassifier(max_depth = i)\n",
    "    dtc_min_split = DecisionTreeClassifier(min_samples_split= i)\n",
    "    dtc_min_leaf = DecisionTreeClassifier(min_samples_leaf = i)\n",
    "    dtc_magic = DecisionTreeClassifier(max_depth = depth_wild,min_samples_split= split_wild,min_samples_leaf = leaf_wild)\n",
    "# \n",
    "    dtc_max_depth.fit(X_train,y_train)\n",
    "    dtc_min_split.fit(X_train,y_train)\n",
    "    dtc_min_leaf.fit(X_train,y_train)\n",
    "    dtc_magic.fit(X_train,y_train)\n",
    "# \n",
    "\n",
    "    train_preds_depth = dtc_max_depth.predict(X_train)\n",
    "    test_preds_depth = dtc_max_depth.predict(X_test)\n",
    "    \n",
    "    train_depth_results.append(f1_score(y_train, train_preds_depth))\n",
    "    test_depth_results.append(f1_score(y_test,test_preds_depth))\n",
    "    \n",
    "# \n",
    "    train_preds_split = dtc_min_split.predict(X_train)\n",
    "    test_preds_split = dtc_min_split.predict(X_test)\n",
    "    \n",
    "    train_split_results.append(f1_score(y_train, train_preds_split))\n",
    "    test_split_results.append(f1_score(y_test,test_preds_split))\n",
    "    \n",
    "# \n",
    "\n",
    "    train_preds_leaf = dtc_min_leaf.predict(X_train)\n",
    "    test_preds_leaf = dtc_min_leaf.predict(X_test)\n",
    "    \n",
    "    train_leaf_results.append(f1_score(y_train, train_preds_leaf))\n",
    "    test_leaf_results.append(f1_score(y_test, test_preds_leaf))\n",
    "    \n",
    "#     \n",
    "\n",
    "    train_magic = dtc_magic.predict(X_train)\n",
    "    test_magic = dtc_magic.predict(X_test)\n",
    "    \n",
    "    train_magic_results.append(f1_score(y_train, train_magic))\n",
    "    test_magic_results.append(f1_score(y_test,test_magic))\n",
    "    \n",
    "# \n",
    "    "
   ]
  },
  {
   "cell_type": "code",
   "execution_count": 168,
   "metadata": {},
   "outputs": [
    {
     "data": {
      "text/plain": [
       "<matplotlib.legend.Legend at 0x7fd03f2a7940>"
      ]
     },
     "execution_count": 168,
     "metadata": {},
     "output_type": "execute_result"
    },
    {
     "data": {
      "image/png": "[encoded data removed]",
      "text/plain": [
       "<Figure size 1440x432 with 1 Axes>"
      ]
     },
     "metadata": {
      "needs_background": "light"
     },
     "output_type": "display_data"
    }
   ],
   "source": [
    "fig,ax = plt.subplots(figsize = (20,6));\n",
    "ax.plot(train_depth_results, color = 'b', label = 'depth train')\n",
    "ax.plot(test_depth_results, color = 'b', label = 'depth test', linewidth=4)\n",
    "ax.plot(train_split_results, color = 'r', label = 'split train')\n",
    "ax.plot(test_split_results, color = 'r', label = 'split test', linewidth=4)\n",
    "ax.plot(train_leaf_results, color = 'y', label = 'leaf train')\n",
    "ax.plot(test_leaf_results, color = 'y', label = 'leaf test', linewidth=4)\n",
    "ax.plot(train_magic_results, color = 'g', label = 'magic train')\n",
    "ax.plot(test_magic_results, color = 'g', label = 'magic test', linewidth=4)\n",
    "ax.legend()"
   ]
  },
  {
   "cell_type": "markdown",
   "metadata": {},
   "source": [
    "# Ok, now let's do it systematically\n",
    "\n",
    "Let's do it with some for loops. This will lead us to having more data than we can \"look\" at, so naturally we will plot it.\n",
    "I've started the for loop for you, you need to fill in the inner part."
   ]
  },
  {
   "cell_type": "code",
   "execution_count": 158,
   "metadata": {
    "tags": []
   },
   "outputs": [
    {
     "name": "stdout",
     "output_type": "stream",
     "text": [
      "[0.7884444444444445, 0.8613861386138615, 0.8890728476821192, 0.9093864282811864, 0.924076329679253, 0.9373737373737374, 0.9468170829975826, 0.9524959742351047, 0.9565916398713827, 0.9653248306098047, 0.9692859992022337, 0.9726299087663626, 0.9762282091917591, 0.980952380952381, 0.985759493670886, 0.9864541832669323, 0.9904761904761905, 0.9928684627575277, 0.9944620253164558, 0.9960474308300395, 0.9968429360694555, 0.9976322020520915, 0.9984227129337541, 0.9988175009854159, 0.9988175009854159, 0.9988175009854159, 0.9988175009854159, 0.9988175009854159]\n",
      " \n",
      "[0.7288317256162915, 0.812375249500998, 0.8177240684793556, 0.8516003879728419, 0.8543876567020251, 0.8614514608859566, 0.8628571428571428, 0.8733459357277883, 0.8611632270168855, 0.870937790157846, 0.8770949720670391, 0.8696461824953445, 0.8718428437792329, 0.8760330578512395, 0.8701298701298701, 0.8687615526802218, 0.8707607699358386, 0.8777372262773723, 0.8679593721144967, 0.8656987295825772, 0.8621004566210045, 0.8649138712601994, 0.8597449908925319, 0.8736263736263736, 0.8710865561694291, 0.8654545454545454, 0.8667271078875793, 0.8628884826325411]\n"
     ]
    }
   ],
   "source": [
    "train_results = []\n",
    "test_results = []\n",
    "for i in range(2,30): # feel free to change these, I just threw out a reasonable option here.\n",
    "\n",
    "    dtc = DecisionTreeClassifier(max_depth=i)               #select a parameter to check \n",
    "    dtc.fit(X_train,y_train)                                # train the model\n",
    "    train_preds = dtc.predict(X_train)\n",
    "    test_preds = dtc.predict(X_test)                        # get predictions for both training and test\n",
    "    \n",
    "    train_results.append(f1_score(y_train, train_preds))\n",
    "    test_results.append(f1_score(y_test, test_preds))      # evaluate them and append them into the our lists.\n",
    "\n",
    "print(train_results)\n",
    "print ( \" \")\n",
    "print (test_results)"
   ]
  },
  {
   "cell_type": "code",
   "execution_count": null,
   "metadata": {},
   "outputs": [],
   "source": []
  },
  {
   "cell_type": "code",
   "execution_count": null,
   "metadata": {},
   "outputs": [],
   "source": []
  },
  {
   "cell_type": "markdown",
   "metadata": {},
   "source": [
    "## That's a lot of numbers!\n",
    "\n",
    "What do all those numbers tell us? Well we can pick out the best values using something like `np.max` and then we can relate it to the best parameter with the argument that correlates to that value (so depth 2 gave us .85 score etc).  But I think we'll find more interesting to plot these points.  I've provided the code for you below."
   ]
  },
  {
   "cell_type": "code",
   "execution_count": 160,
   "metadata": {},
   "outputs": [
    {
     "data": {
      "text/plain": [
       "<matplotlib.legend.Legend at 0x7fd03db7dfd0>"
      ]
     },
     "execution_count": 160,
     "metadata": {},
     "output_type": "execute_result"
    },
    {
     "data": {
      "image/png": "[encoded data removed]",
      "text/plain": [
       "<Figure size 1440x432 with 1 Axes>"
      ]
     },
     "metadata": {
      "needs_background": "light"
     },
     "output_type": "display_data"
    }
   ],
   "source": [
    "fig,ax = plt.subplots(figsize = (20,6));\n",
    "ax.plot(train_results, color = 'r', label = 'train')\n",
    "ax.plot(test_results, color = 'b', label = 'test')\n",
    "ax.legend()"
   ]
  },
  {
   "cell_type": "markdown",
   "metadata": {},
   "source": [
    "## This graph is called a validation curve\n",
    "\n",
    "What we have done is plotted the performance of the training and testing data against a parameter that was varied. How do we read this graph?\n",
    "What information can you glean?\n",
    "When does our model start to overfit?  \n",
    "Based on what you see here, what do you think the best choice for the parameter you were checking is?  That is, looking at the graph, what value would you choose for a spam detection model that you were going to deploy? Don't forget the purpose of the model!\n"
   ]
  },
  {
   "cell_type": "markdown",
   "metadata": {},
   "source": [
    "#### Your answers here"
   ]
  },
  {
   "cell_type": "code",
   "execution_count": null,
   "metadata": {},
   "outputs": [],
   "source": [
    "# How I read this graph/What I glean:\n",
    "#     I see the F1 score increasing as the max depth increases until a point: \n",
    "        # around max depth of 4 or 5. So 'max depth', the parameter I find most useful, \n",
    "        # indicates the optimal threshold for the model is a max_depth value of 4 or 5.\n",
    "# Point of Overfit:\n",
    "#     The overfitting, given the above parameter, begins occurring at a value of 5 or 6.\n",
    "# Chosen parameter:\n",
    "#     Max Depth appears to be the most effective parameter for a spam-detection model.\n",
    "\n",
    "\n"
   ]
  },
  {
   "cell_type": "markdown",
   "metadata": {},
   "source": [
    "# Finally... we ... made a mistake!\n",
    "Do you see what the giant mistake we did? Go ahead and let us know below.\n",
    "If you don't see the mistake... don't worry I'll explain in the next unit!\n"
   ]
  },
  {
   "cell_type": "markdown",
   "metadata": {},
   "source": [
    "#### Your answer here"
   ]
  },
  {
   "cell_type": "code",
   "execution_count": null,
   "metadata": {},
   "outputs": [],
   "source": [
    "# Mistake?\n",
    "#     Not sure"
   ]
  }
 ],
 "metadata": {
  "kernelspec": {
   "display_name": "Python 3 (ipykernel)",
   "language": "python",
   "name": "python3"
  },
  "language_info": {
   "codemirror_mode": {
    "name": "ipython",
    "version": 3
   },
   "file_extension": ".py",
   "mimetype": "text/x-python",
   "name": "python",
   "nbconvert_exporter": "python",
   "pygments_lexer": "ipython3",
   "version": "3.9.7"
  }
 },
 "nbformat": 4,
 "nbformat_minor": 4
}
